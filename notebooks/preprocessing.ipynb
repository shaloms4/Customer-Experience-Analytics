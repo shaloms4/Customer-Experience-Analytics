{
 "cells": [
  {
   "cell_type": "code",
   "execution_count": 13,
   "id": "35b566e1",
   "metadata": {},
   "outputs": [],
   "source": [
    "import pandas as pd\n",
    "import glob\n",
    "import os"
   ]
  },
  {
   "cell_type": "code",
   "execution_count": 14,
   "id": "c3267bc4",
   "metadata": {},
   "outputs": [],
   "source": [
    "# Folder where raw scraped CSVs are stored\n",
    "RAW_DATA_DIR = \"../data/raw\"\n",
    "# Folder to save cleaned CSVs\n",
    "CLEAN_DATA_DIR = \"../data/clean\"\n",
    "os.makedirs(CLEAN_DATA_DIR, exist_ok=True)"
   ]
  },
  {
   "cell_type": "code",
   "execution_count": 15,
   "id": "744606bb",
   "metadata": {},
   "outputs": [],
   "source": [
    "def preprocess_file(file_path):\n",
    "    print(f\"Processing {file_path} ...\")\n",
    "    df = pd.read_csv(file_path)\n",
    "\n",
    "    # Drop rows with missing review_text or rating or date\n",
    "    df = df.dropna(subset=['review_text', 'rating', 'date'])\n",
    "\n",
    "    # Remove duplicates based on review text and rating\n",
    "    df = df.drop_duplicates(subset=['review_text', 'rating'])\n",
    "\n",
    "    # Normalize date format to YYYY-MM-DD\n",
    "    df['date'] = pd.to_datetime(df['date'], errors='coerce').dt.strftime('%Y-%m-%d')\n",
    "\n",
    "    # Drop rows where date conversion failed\n",
    "    df = df.dropna(subset=['date'])\n",
    "\n",
    "    # Rename columns to required names\n",
    "    df_clean = df.rename(columns={\n",
    "        'review_text': 'review',\n",
    "        'bank_name': 'bank',\n",
    "        'source': 'source'\n",
    "    })\n",
    "\n",
    "    # Select only the required columns\n",
    "    df_clean = df_clean[['review', 'rating', 'date', 'bank', 'source']]\n",
    "\n",
    "    # Save cleaned CSV\n",
    "    filename = os.path.basename(file_path).replace('raw', 'clean')\n",
    "    save_path = os.path.join(CLEAN_DATA_DIR, filename)\n",
    "    df_clean.to_csv(save_path, index=False)\n",
    "    print(f\"Saved cleaned file to {save_path}\")\n"
   ]
  },
  {
   "cell_type": "code",
   "execution_count": 16,
   "id": "e43a6c7e",
   "metadata": {},
   "outputs": [],
   "source": [
    "def preprocess_all_files():\n",
    "    # Process all raw CSV files in the folder\n",
    "    files = glob.glob(os.path.join(RAW_DATA_DIR, '*.csv'))\n",
    "    for file in files:\n",
    "        preprocess_file(file)"
   ]
  },
  {
   "cell_type": "code",
   "execution_count": 17,
   "id": "58f8bfc0",
   "metadata": {},
   "outputs": [
    {
     "name": "stdout",
     "output_type": "stream",
     "text": [
      "Processing ../data/raw\\bank_of_abyssinia_reviews_20250608_090559.csv ...\n",
      "Saved cleaned file to ../data/clean\\bank_of_abyssinia_reviews_20250608_090559.csv\n",
      "Processing ../data/raw\\commercial_bank_of_ethiopia_reviews_20250608_090558.csv ...\n",
      "Saved cleaned file to ../data/clean\\commercial_bank_of_ethiopia_reviews_20250608_090558.csv\n",
      "Processing ../data/raw\\dashen_bank_reviews_20250608_090601.csv ...\n",
      "Saved cleaned file to ../data/clean\\dashen_bank_reviews_20250608_090601.csv\n"
     ]
    }
   ],
   "source": [
    "preprocess_all_files()\n"
   ]
  }
 ],
 "metadata": {
  "kernelspec": {
   "display_name": "venv",
   "language": "python",
   "name": "python3"
  },
  "language_info": {
   "codemirror_mode": {
    "name": "ipython",
    "version": 3
   },
   "file_extension": ".py",
   "mimetype": "text/x-python",
   "name": "python",
   "nbconvert_exporter": "python",
   "pygments_lexer": "ipython3",
   "version": "3.10.11"
  }
 },
 "nbformat": 4,
 "nbformat_minor": 5
}
